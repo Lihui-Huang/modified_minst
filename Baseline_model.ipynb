{
  "nbformat": 4,
  "nbformat_minor": 0,
  "metadata": {
    "colab": {
      "name": "Baseline_model",
      "provenance": [],
      "collapsed_sections": [],
      "machine_shape": "hm"
    },
    "kernelspec": {
      "name": "python3",
      "display_name": "Python 3"
    },
    "accelerator": "GPU"
  },
  "cells": [
    {
      "cell_type": "code",
      "metadata": {
        "id": "EpiAtjiMT-UY",
        "colab_type": "code",
        "outputId": "e093d903-71b8-436b-b783-6799334ef357",
        "colab": {
          "base_uri": "https://localhost:8080/",
          "height": 391
        }
      },
      "source": [
        "import keras\n",
        "import numpy as np\n",
        "import pandas as pd\n",
        "from keras.datasets import mnist\n",
        "from keras.utils import to_categorical\n",
        "from keras.models import Sequential\n",
        "from keras.layers import Dense, Conv2D, Flatten, MaxPooling2D\n",
        "\n",
        "#download mnist data and split into train and test sets\n",
        "\n",
        "X = pd.read_pickle('/content/drive/My Drive/data/train_max_x')\n",
        "y = pd.read_csv('/content/drive/My Drive/data/train_max_y.csv')\n",
        "y = y.drop(columns='Id')        #drop id\n",
        "y = y.to_numpy()                #convert y to ndarray\n",
        "\n",
        "X_train = X[0:40000].reshape(40000, 128, 128, 1)\n",
        "y_train = y[0:40000]\n",
        "X_test = X[40000:50000].reshape(10000, 128, 128, 1)\n",
        "y_test = y[40000:50000]\n",
        "y_train = to_categorical(y_train)\n",
        "y_test = to_categorical(y_test)\n",
        "\n",
        "model = Sequential()\n",
        "model.add(Conv2D(64, kernel_size=3, activation='relu', input_shape=(128, 128, 1)))\n",
        "model.add(Conv2D(32, kernel_size=3, activation='relu'))\n",
        "model.add(MaxPooling2D(pool_size=(2, 2)))\n",
        "model.add(Flatten())\n",
        "model.add(Dense(10, activation='softmax'))\n",
        "\n",
        "model.compile(optimizer='adam', loss='categorical_crossentropy', metrics=['accuracy'])\n",
        "\n",
        "model.fit(X_train, y_train, validation_data=(X_test, y_test), epochs=10, batch_size=16)\n",
        "\n"
      ],
      "execution_count": 0,
      "outputs": [
        {
          "output_type": "stream",
          "text": [
            "Train on 40000 samples, validate on 10000 samples\n",
            "Epoch 1/10\n",
            "40000/40000 [==============================] - 23s 574us/step - loss: 12.6798 - acc: 0.2125 - val_loss: 12.7414 - val_acc: 0.2095\n",
            "Epoch 2/10\n",
            "40000/40000 [==============================] - 22s 548us/step - loss: 12.6825 - acc: 0.2131 - val_loss: 12.7414 - val_acc: 0.2095\n",
            "Epoch 3/10\n",
            "40000/40000 [==============================] - 22s 543us/step - loss: 12.6825 - acc: 0.2131 - val_loss: 12.7414 - val_acc: 0.2095\n",
            "Epoch 4/10\n",
            "40000/40000 [==============================] - 22s 542us/step - loss: 12.6825 - acc: 0.2131 - val_loss: 12.7414 - val_acc: 0.2095\n",
            "Epoch 5/10\n",
            "40000/40000 [==============================] - 22s 542us/step - loss: 12.6825 - acc: 0.2131 - val_loss: 12.7414 - val_acc: 0.2095\n",
            "Epoch 6/10\n",
            "40000/40000 [==============================] - 22s 543us/step - loss: 12.6825 - acc: 0.2131 - val_loss: 12.7414 - val_acc: 0.2095\n",
            "Epoch 7/10\n",
            "40000/40000 [==============================] - 22s 541us/step - loss: 12.6825 - acc: 0.2131 - val_loss: 12.7414 - val_acc: 0.2095\n",
            "Epoch 8/10\n",
            "40000/40000 [==============================] - 22s 540us/step - loss: 12.6825 - acc: 0.2131 - val_loss: 12.7414 - val_acc: 0.2095\n",
            "Epoch 9/10\n",
            "40000/40000 [==============================] - 22s 541us/step - loss: 12.6825 - acc: 0.2131 - val_loss: 12.7414 - val_acc: 0.2095\n",
            "Epoch 10/10\n",
            "40000/40000 [==============================] - 22s 544us/step - loss: 12.6825 - acc: 0.2131 - val_loss: 12.7414 - val_acc: 0.2095\n"
          ],
          "name": "stdout"
        },
        {
          "output_type": "execute_result",
          "data": {
            "text/plain": [
              "<keras.callbacks.History at 0x7fae50403908>"
            ]
          },
          "metadata": {
            "tags": []
          },
          "execution_count": 7
        }
      ]
    },
    {
      "cell_type": "code",
      "metadata": {
        "id": "588YSWKxUNz4",
        "colab_type": "code",
        "colab": {}
      },
      "source": [
        ""
      ],
      "execution_count": 0,
      "outputs": []
    },
    {
      "cell_type": "code",
      "metadata": {
        "id": "QmM7J3MzUQtV",
        "colab_type": "code",
        "outputId": "6af8679a-4d57-4678-cf01-0e0aea5163cd",
        "colab": {
          "base_uri": "https://localhost:8080/",
          "height": 122
        }
      },
      "source": [
        "from google.colab import drive\n",
        "drive.mount('/content/drive')"
      ],
      "execution_count": 0,
      "outputs": [
        {
          "output_type": "stream",
          "text": [
            "Go to this URL in a browser: https://accounts.google.com/o/oauth2/auth?client_id=947318989803-6bn6qk8qdgf4n4g3pfee6491hc0brc4i.apps.googleusercontent.com&redirect_uri=urn%3Aietf%3Awg%3Aoauth%3A2.0%3Aoob&scope=email%20https%3A%2F%2Fwww.googleapis.com%2Fauth%2Fdocs.test%20https%3A%2F%2Fwww.googleapis.com%2Fauth%2Fdrive%20https%3A%2F%2Fwww.googleapis.com%2Fauth%2Fdrive.photos.readonly%20https%3A%2F%2Fwww.googleapis.com%2Fauth%2Fpeopleapi.readonly&response_type=code\n",
            "\n",
            "Enter your authorization code:\n",
            "··········\n",
            "Mounted at /content/drive\n"
          ],
          "name": "stdout"
        }
      ]
    }
  ]
}
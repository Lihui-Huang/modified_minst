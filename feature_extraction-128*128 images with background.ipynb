{
 "cells": [
  {
   "cell_type": "code",
   "execution_count": null,
   "metadata": {},
   "outputs": [],
   "source": [
    "import numpy as np\n",
    "import matplotlib.pyplot as plt\n",
    "import pandas as pd\n",
    "X_train = pd.read_pickle('train_max_x')\n",
    "#X_train = pd.read_pickle('test_max_x')"
   ]
  },
  {
   "cell_type": "code",
   "execution_count": null,
   "metadata": {},
   "outputs": [],
   "source": [
    "X_train = X_train.astype('uint8')\n",
    "X_train = X_train/255\n",
    "X_train_copy = X_train.copy()"
   ]
  },
  {
   "cell_type": "code",
   "execution_count": null,
   "metadata": {},
   "outputs": [],
   "source": [
    "from sklearn.cluster import KMeans\n",
    "\n",
    "X_train_image = []\n",
    "for i in range(len(X_train)):\n",
    "    X_image = X_train[i].copy()\n",
    "    X_image_copy = X_train_copy[i].copy()\n",
    "    coordinates = []\n",
    "    coordinates_add = []\n",
    "\n",
    "    for x in range(128):\n",
    "        for y in range(128):\n",
    "            if X_image[x][y] == 1:\n",
    "                coordinates.append([x,y])\n",
    "            elif 0 <= X_image_copy[x][y] < 1:\n",
    "                coordinates_add.append([x,y])\n",
    "\n",
    "                \n",
    "                \n",
    "    kmeans = KMeans(n_clusters=3)\n",
    "    kmeans.fit(coordinates)\n",
    "    y_kmeans = kmeans.predict(coordinates)\n",
    "    \n",
    "    number_one = []\n",
    "    number_two = []\n",
    "    number_three = []\n",
    "    x_min = 128\n",
    "    y_min = 128\n",
    "    x_max = 0\n",
    "    y_max = 0\n",
    "    row = []\n",
    "    col = []\n",
    "\n",
    "    for label in range(len(y_kmeans)):\n",
    "        if y_kmeans[label] == 0.:\n",
    "            number_one.append(coordinates[label])\n",
    "        elif y_kmeans[label] == 1.:\n",
    "            number_two.append(coordinates[label])\n",
    "        else:\n",
    "            number_three.append(coordinates[label])\n",
    "    \n",
    "    \n",
    "    for coordinates in [number_one, number_two, number_three]:\n",
    "        for i in range(len(coordinates)):\n",
    "            if coordinates[i][0] < x_min:\n",
    "                x_min = coordinates[i][0]\n",
    "            if coordinates[i][1] < y_min:\n",
    "                y_min = coordinates[i][1]\n",
    "            if coordinates[i][0] > x_max:\n",
    "                x_max = coordinates[i][0]\n",
    "            if coordinates[i][1] > y_max:\n",
    "                y_max = coordinates[i][1]\n",
    "        for i in range(len(coordinates_add)) :\n",
    "            if x_max >= coordinates_add[i][0] >= x_min and y_max >= coordinates_add[i][1] >= y_min:\n",
    "                coordinates.append(coordinates_add[i])\n",
    "        x_min = 128\n",
    "        y_min = 128\n",
    "        x_max = 0\n",
    "        y_max = 0 \n",
    "\n",
    "        \n",
    "    new_image = np.zeros((128,128))            \n",
    "    for old_image in [number_one, number_two, number_three]:\n",
    "        for i in range(128):\n",
    "            for j in range(128):\n",
    "                if [i,j] in old_image:\n",
    "                    new_image[i][j] = X_image_copy[i][j]\n",
    "    #plt.imshow(new_image)\n",
    "    #plt.show()\n",
    "    X_train_image.append(new_image)"
   ]
  },
  {
   "cell_type": "code",
   "execution_count": null,
   "metadata": {},
   "outputs": [],
   "source": []
  }
 ],
 "metadata": {
  "kernelspec": {
   "display_name": "Python 3",
   "language": "python",
   "name": "python3"
  },
  "language_info": {
   "codemirror_mode": {
    "name": "ipython",
    "version": 3
   },
   "file_extension": ".py",
   "mimetype": "text/x-python",
   "name": "python",
   "nbconvert_exporter": "python",
   "pygments_lexer": "ipython3",
   "version": "3.6.5"
  }
 },
 "nbformat": 4,
 "nbformat_minor": 2
}

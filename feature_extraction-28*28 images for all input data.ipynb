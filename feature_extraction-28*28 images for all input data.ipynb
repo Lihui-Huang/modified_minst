{
 "cells": [
  {
   "cell_type": "code",
   "execution_count": 52,
   "metadata": {},
   "outputs": [],
   "source": [
    "import numpy as np\n",
    "import matplotlib.pyplot as plt\n",
    "import pandas as pd\n",
    "#train_images = pd.read_pickle('train_max_x')\n",
    "X_train = pd.read_pickle('test_max_x')"
   ]
  },
  {
   "cell_type": "code",
   "execution_count": 53,
   "metadata": {},
   "outputs": [],
   "source": [
    "X_train = X_train.astype('float32')"
   ]
  },
  {
   "cell_type": "code",
   "execution_count": 54,
   "metadata": {},
   "outputs": [
    {
     "ename": "KeyboardInterrupt",
     "evalue": "",
     "output_type": "error",
     "traceback": [
      "\u001b[0;31m---------------------------------------------------------------------------\u001b[0m",
      "\u001b[0;31mKeyboardInterrupt\u001b[0m                         Traceback (most recent call last)",
      "\u001b[0;32m<ipython-input-54-c3b7679e3e72>\u001b[0m in \u001b[0;36m<module>\u001b[0;34m\u001b[0m\n\u001b[1;32m      2\u001b[0m     \u001b[0;32mfor\u001b[0m \u001b[0mrow\u001b[0m \u001b[0;32min\u001b[0m \u001b[0mrange\u001b[0m\u001b[0;34m(\u001b[0m\u001b[0;36m128\u001b[0m\u001b[0;34m)\u001b[0m\u001b[0;34m:\u001b[0m\u001b[0;34m\u001b[0m\u001b[0;34m\u001b[0m\u001b[0m\n\u001b[1;32m      3\u001b[0m         \u001b[0;32mfor\u001b[0m \u001b[0mcol\u001b[0m \u001b[0;32min\u001b[0m \u001b[0mrange\u001b[0m\u001b[0;34m(\u001b[0m\u001b[0;36m128\u001b[0m\u001b[0;34m)\u001b[0m\u001b[0;34m:\u001b[0m\u001b[0;34m\u001b[0m\u001b[0;34m\u001b[0m\u001b[0m\n\u001b[0;32m----> 4\u001b[0;31m             \u001b[0;32mif\u001b[0m \u001b[0mimage\u001b[0m\u001b[0;34m[\u001b[0m\u001b[0mrow\u001b[0m\u001b[0;34m]\u001b[0m\u001b[0;34m[\u001b[0m\u001b[0mcol\u001b[0m\u001b[0;34m]\u001b[0m \u001b[0;34m==\u001b[0m \u001b[0;36m255.\u001b[0m\u001b[0;34m:\u001b[0m\u001b[0;34m\u001b[0m\u001b[0;34m\u001b[0m\u001b[0m\n\u001b[0m\u001b[1;32m      5\u001b[0m                 \u001b[0mimage\u001b[0m\u001b[0;34m[\u001b[0m\u001b[0mrow\u001b[0m\u001b[0;34m]\u001b[0m\u001b[0;34m[\u001b[0m\u001b[0mcol\u001b[0m\u001b[0;34m]\u001b[0m \u001b[0;34m=\u001b[0m \u001b[0;36m255.\u001b[0m\u001b[0;34m\u001b[0m\u001b[0;34m\u001b[0m\u001b[0m\n\u001b[1;32m      6\u001b[0m             \u001b[0;32melse\u001b[0m\u001b[0;34m:\u001b[0m\u001b[0;34m\u001b[0m\u001b[0;34m\u001b[0m\u001b[0m\n",
      "\u001b[0;31mKeyboardInterrupt\u001b[0m: "
     ]
    }
   ],
   "source": [
    "for image in X_train:\n",
    "    for row in range(128):\n",
    "        for col in range(128):\n",
    "            if image[row][col] == 255.:\n",
    "                image[row][col] = 255.\n",
    "            else:\n",
    "                image[row][col] = 0."
   ]
  },
  {
   "cell_type": "code",
   "execution_count": null,
   "metadata": {
    "scrolled": true
   },
   "outputs": [],
   "source": [
    "for image in X_train:\n",
    "    for row in range(128):\n",
    "        for col in range(128):\n",
    "            if image[row][col] == 255.:\n",
    "                image[row][col] = 255.\n",
    "            else:\n",
    "                image[row][col] = 0."
   ]
  },
  {
   "cell_type": "code",
   "execution_count": 48,
   "metadata": {},
   "outputs": [],
   "source": [
    "from sklearn.cluster import KMeans\n",
    "coordinates = []\n",
    "X_train_image = []\n",
    "for i in range(len(X_train)):\n",
    "    X_image = X_train[i].copy()\n",
    "    for x in range(128):\n",
    "        for y in range(128):\n",
    "            if X_image[x][y] == 255.:\n",
    "                coordinates.append([x,y])\n",
    "\n",
    "    kmeans = KMeans(n_clusters=3)\n",
    "    kmeans.fit(coordinates)\n",
    "    y_kmeans = kmeans.predict(coordinates)\n",
    "    number_one = []\n",
    "    number_two = []\n",
    "    number_three = []\n",
    "    x_min = 128\n",
    "    y_min = 128\n",
    "    row = []\n",
    "    col = []\n",
    "\n",
    "    for label in range(len(y_kmeans)):\n",
    "        if y_kmeans[label] == 0.:\n",
    "            number_one.append(coordinates[label])\n",
    "        elif y_kmeans[label] == 1.:\n",
    "            number_two.append(coordinates[label])\n",
    "        else:\n",
    "            number_three.append(coordinates[label])\n",
    "\n",
    "    for image in [number_one, number_two, number_three]:\n",
    "        for i in range(len(image)):\n",
    "            if image[i][0] < x_min:\n",
    "                x_min = image[i][0]\n",
    "            if image[i][1] < y_min:\n",
    "                y_min = image[i][1]\n",
    "            if i == len(image)-1:\n",
    "                for j in range(len(image)):\n",
    "                    image[j][0] = image[j][0] - x_min\n",
    "                    image[j][1] = image[j][1] - y_min\n",
    "                x_min = 128\n",
    "                y_min = 128\n",
    "\n",
    "    for point in number_three:\n",
    "        row.append(point[0])\n",
    "        col.append(point[1])\n",
    "    row = np.array(row)\n",
    "    col = np.array(col)\n",
    "\n",
    "    for old_image in [number_one, number_two, number_three]:\n",
    "        new_image = np.zeros((28,28))\n",
    "        for i in range(28):\n",
    "            for j in range(28):\n",
    "                if [i,j] in old_image:\n",
    "                    new_image[i][j] = 255.\n",
    "        X_train_image.append(new_image)\n",
    "\n",
    "    coordinates = []\n"
   ]
  },
  {
   "cell_type": "code",
   "execution_count": 50,
   "metadata": {},
   "outputs": [
    {
     "data": {
      "text/plain": [
       "6"
      ]
     },
     "execution_count": 50,
     "metadata": {},
     "output_type": "execute_result"
    }
   ],
   "source": [
    "len(X_train_image)"
   ]
  },
  {
   "cell_type": "code",
   "execution_count": null,
   "metadata": {},
   "outputs": [],
   "source": []
  }
 ],
 "metadata": {
  "kernelspec": {
   "display_name": "Python 3",
   "language": "python",
   "name": "python3"
  },
  "language_info": {
   "codemirror_mode": {
    "name": "ipython",
    "version": 3
   },
   "file_extension": ".py",
   "mimetype": "text/x-python",
   "name": "python",
   "nbconvert_exporter": "python",
   "pygments_lexer": "ipython3",
   "version": "3.7.3"
  }
 },
 "nbformat": 4,
 "nbformat_minor": 2
}

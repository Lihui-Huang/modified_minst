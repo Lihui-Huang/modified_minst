{
  "nbformat": 4,
  "nbformat_minor": 0,
  "metadata": {
    "kernelspec": {
      "name": "python3",
      "display_name": "Python 3"
    },
    "language_info": {
      "codemirror_mode": {
        "name": "ipython",
        "version": 3
      },
      "file_extension": ".py",
      "mimetype": "text/x-python",
      "name": "python",
      "nbconvert_exporter": "python",
      "pygments_lexer": "ipython3",
      "version": "3.7.3"
    },
    "colab": {
      "name": "feature_extraction-128*128 images with background.ipynb",
      "provenance": [],
      "collapsed_sections": []
    },
    "accelerator": "GPU"
  },
  "cells": [
    {
      "cell_type": "code",
      "metadata": {
        "id": "9KXlxsz9rhYV",
        "colab_type": "code",
        "outputId": "4856a1c5-4f8d-4f44-be6b-b701a2121c08",
        "colab": {
          "base_uri": "https://localhost:8080/",
          "height": 224
        }
      },
      "source": [
        "!apt-get install -y -qq software-properties-common python-software-properties module-init-tools\n",
        "!add-apt-repository -y ppa:alessandro-strada/ppa 2>&1 > /dev/null\n",
        "!apt-get update -qq 2>&1 > /dev/null\n",
        "!apt-get -y install -qq google-drive-ocamlfuse fuse\n",
        "from google.colab import auth\n",
        "auth.authenticate_user()\n",
        "from oauth2client.client import GoogleCredentials\n",
        "creds = GoogleCredentials.get_application_default()\n",
        "import getpass\n",
        "!google-drive-ocamlfuse -headless -id={creds.client_id} -secret={creds.client_secret} < /dev/null 2>&1 | grep URL\n",
        "vcode = getpass.getpass()\n",
        "!echo {vcode} | google-drive-ocamlfuse -headless -id={creds.client_id} -secret={creds.client_secret}"
      ],
      "execution_count": 1,
      "outputs": [
        {
          "output_type": "stream",
          "text": [
            "E: Package 'python-software-properties' has no installation candidate\n",
            "Selecting previously unselected package google-drive-ocamlfuse.\n",
            "(Reading database ... 132684 files and directories currently installed.)\n",
            "Preparing to unpack .../google-drive-ocamlfuse_0.7.13-0ubuntu1~ubuntu18.04.1_amd64.deb ...\n",
            "Unpacking google-drive-ocamlfuse (0.7.13-0ubuntu1~ubuntu18.04.1) ...\n",
            "Setting up google-drive-ocamlfuse (0.7.13-0ubuntu1~ubuntu18.04.1) ...\n",
            "Processing triggers for man-db (2.8.3-2ubuntu0.1) ...\n",
            "Please, open the following URL in a web browser: https://accounts.google.com/o/oauth2/auth?client_id=32555940559.apps.googleusercontent.com&redirect_uri=urn%3Aietf%3Awg%3Aoauth%3A2.0%3Aoob&scope=https%3A%2F%2Fwww.googleapis.com%2Fauth%2Fdrive&response_type=code&access_type=offline&approval_prompt=force\n",
            "··········\n",
            "Please, open the following URL in a web browser: https://accounts.google.com/o/oauth2/auth?client_id=32555940559.apps.googleusercontent.com&redirect_uri=urn%3Aietf%3Awg%3Aoauth%3A2.0%3Aoob&scope=https%3A%2F%2Fwww.googleapis.com%2Fauth%2Fdrive&response_type=code&access_type=offline&approval_prompt=force\n",
            "Please enter the verification code: Access token retrieved correctly.\n"
          ],
          "name": "stdout"
        }
      ]
    },
    {
      "cell_type": "code",
      "metadata": {
        "id": "G4tu97vOBnwl",
        "colab_type": "code",
        "colab": {}
      },
      "source": [
        "!mkdir -p drive\n",
        "!google-drive-ocamlfuse drive"
      ],
      "execution_count": 0,
      "outputs": []
    },
    {
      "cell_type": "code",
      "metadata": {
        "id": "qvkGtmxqs4Ox",
        "colab_type": "code",
        "colab": {}
      },
      "source": [
        "import numpy as np\n",
        "import matplotlib.pyplot as plt\n",
        "import pandas as pd\n",
        "X_train = pd.read_pickle('drive/train_max_x')\n",
        "#X_train = pd.read_pickle('file/test_max_x')"
      ],
      "execution_count": 0,
      "outputs": []
    },
    {
      "cell_type": "code",
      "metadata": {
        "id": "q3yFshNTs4O7",
        "colab_type": "code",
        "colab": {}
      },
      "source": [
        "X_train = X_train.astype('float32')\n",
        "X_train = X_train/255\n",
        "X_train_copy = X_train.copy()"
      ],
      "execution_count": 0,
      "outputs": []
    },
    {
      "cell_type": "code",
      "metadata": {
        "id": "LOXXwaFgozwr",
        "colab_type": "code",
        "outputId": "0d12a8ab-4221-4767-e0c7-288f4dedd999",
        "colab": {
          "base_uri": "https://localhost:8080/",
          "height": 884
        }
      },
      "source": [
        "import keras\n",
        "import numpy as np\n",
        "import pandas as pd\n",
        "from keras.datasets import mnist\n",
        "from keras.utils import to_categorical\n",
        "from keras.models import Sequential\n",
        "from keras.layers import Dense, Conv2D, Flatten, BatchNormalization, MaxPooling2D, Dropout, AveragePooling2D\n",
        "from keras.datasets import mnist\n",
        "from sklearn.cluster import KMeans\n",
        "import matplotlib.pyplot as plt\n",
        "import cv2 as cv\n",
        "\n",
        "X = pd.read_pickle('drive/train_max_x')\n",
        "y = pd.read_csv('drive/train_max_y.csv')\n",
        "y = y.drop(columns='Id')        #drop id\n",
        "y = y.to_numpy()                #convert y to ndarray\n",
        "\n",
        "test = pd.read_pickle('drive/test_max_x')\n",
        "test = test.reshape(10000, 128, 128, 1)\n",
        "\n",
        "X_train = X[0:50000].reshape(50000, 128, 128, 1)\n",
        "y_train = y[0:50000]\n",
        "\n",
        "y_train = to_categorical(y_train)\n",
        "\n",
        "model = Sequential()\n",
        "model.add(Conv2D(64, kernel_size=3, activation='relu', input_shape=(128, 128, 1)))\n",
        "model.add(Conv2D(64, kernel_size=3, activation='relu'))\n",
        "model.add(BatchNormalization())\n",
        "model.add(MaxPooling2D(pool_size=(2, 2)))\n",
        "model.add(Dropout(0.3))\n",
        "\n",
        "model.add(Conv2D(96, kernel_size=5, activation='relu', input_shape=(128, 128, 1)))\n",
        "model.add(Conv2D(96, kernel_size=5, activation='relu'))\n",
        "model.add(BatchNormalization())\n",
        "model.add(MaxPooling2D(pool_size=(2, 2)))\n",
        "model.add(Dropout(0.5))\n",
        "\n",
        "\n",
        "model.add(Conv2D(128, kernel_size=3, activation='relu', input_shape=(128, 128, 1)))\n",
        "model.add(Conv2D(128, kernel_size=3, activation='relu'))\n",
        "model.add(BatchNormalization())\n",
        "model.add(MaxPooling2D(pool_size=(2, 2)))\n",
        "model.add(Dropout(0.5))\n",
        "\n",
        "\n",
        "model.add(Conv2D(128, (3, 3), activation='relu'))\n",
        "model.add(MaxPooling2D(pool_size=(3, 3)))\n",
        "\n",
        "model.add(Flatten())\n",
        "model.add(Dense(64, activation='relu'))\n",
        "\n",
        "model.add(Dense(10, activation='softmax'))\n",
        "\n",
        "print(model.summary())"
      ],
      "execution_count": 5,
      "outputs": [
        {
          "output_type": "stream",
          "text": [
            "Model: \"sequential_3\"\n",
            "_________________________________________________________________\n",
            "Layer (type)                 Output Shape              Param #   \n",
            "=================================================================\n",
            "conv2d_17 (Conv2D)           (None, 126, 126, 64)      640       \n",
            "_________________________________________________________________\n",
            "conv2d_18 (Conv2D)           (None, 124, 124, 64)      36928     \n",
            "_________________________________________________________________\n",
            "batch_normalization_8 (Batch (None, 124, 124, 64)      256       \n",
            "_________________________________________________________________\n",
            "max_pooling2d_9 (MaxPooling2 (None, 62, 62, 64)        0         \n",
            "_________________________________________________________________\n",
            "dropout_8 (Dropout)          (None, 62, 62, 64)        0         \n",
            "_________________________________________________________________\n",
            "conv2d_19 (Conv2D)           (None, 58, 58, 128)       204928    \n",
            "_________________________________________________________________\n",
            "conv2d_20 (Conv2D)           (None, 54, 54, 128)       409728    \n",
            "_________________________________________________________________\n",
            "batch_normalization_9 (Batch (None, 54, 54, 128)       512       \n",
            "_________________________________________________________________\n",
            "max_pooling2d_10 (MaxPooling (None, 27, 27, 128)       0         \n",
            "_________________________________________________________________\n",
            "dropout_9 (Dropout)          (None, 27, 27, 128)       0         \n",
            "_________________________________________________________________\n",
            "conv2d_21 (Conv2D)           (None, 25, 25, 256)       295168    \n",
            "_________________________________________________________________\n",
            "conv2d_22 (Conv2D)           (None, 23, 23, 256)       590080    \n",
            "_________________________________________________________________\n",
            "batch_normalization_10 (Batc (None, 23, 23, 256)       1024      \n",
            "_________________________________________________________________\n",
            "max_pooling2d_11 (MaxPooling (None, 11, 11, 256)       0         \n",
            "_________________________________________________________________\n",
            "dropout_10 (Dropout)         (None, 11, 11, 256)       0         \n",
            "_________________________________________________________________\n",
            "conv2d_23 (Conv2D)           (None, 9, 9, 128)         295040    \n",
            "_________________________________________________________________\n",
            "max_pooling2d_12 (MaxPooling (None, 3, 3, 128)         0         \n",
            "_________________________________________________________________\n",
            "flatten_2 (Flatten)          (None, 1152)              0         \n",
            "_________________________________________________________________\n",
            "dense_1 (Dense)              (None, 64)                73792     \n",
            "_________________________________________________________________\n",
            "dense_2 (Dense)              (None, 64)                4160      \n",
            "_________________________________________________________________\n",
            "dense_3 (Dense)              (None, 10)                650       \n",
            "=================================================================\n",
            "Total params: 1,912,906\n",
            "Trainable params: 1,912,010\n",
            "Non-trainable params: 896\n",
            "_________________________________________________________________\n",
            "None\n"
          ],
          "name": "stdout"
        }
      ]
    },
    {
      "cell_type": "code",
      "metadata": {
        "id": "vtcfyDRP6i_4",
        "colab_type": "code",
        "outputId": "2141c201-f452-4fd7-d567-2bb53470922d",
        "colab": {
          "base_uri": "https://localhost:8080/",
          "height": 853
        }
      },
      "source": [
        "from keras.callbacks import EarlyStopping\n",
        "from keras import optimizers\n",
        "\n",
        "nadam = keras.optimizers.Nadam(lr=0.001, beta_1=0.9, beta_2=0.999, epsilon=None, schedule_decay=0.004)\n",
        "\n",
        "model.compile(optimizer=nadam, loss='categorical_crossentropy', metrics=['accuracy'])\n",
        "early_stopping = EarlyStopping(monitor='val_loss', patience=3, verbose=2, mode='auto', min_delta=0.00005)\n",
        "\n",
        "model.fit(X_train, y_train, validation_split=0.04, epochs=20, callbacks=[early_stopping], batch_size=32)"
      ],
      "execution_count": 0,
      "outputs": [
        {
          "output_type": "stream",
          "text": [
            "WARNING:tensorflow:From /usr/local/lib/python3.6/dist-packages/keras/optimizers.py:793: The name tf.train.Optimizer is deprecated. Please use tf.compat.v1.train.Optimizer instead.\n",
            "\n",
            "WARNING:tensorflow:From /usr/local/lib/python3.6/dist-packages/keras/backend/tensorflow_backend.py:3576: The name tf.log is deprecated. Please use tf.math.log instead.\n",
            "\n",
            "WARNING:tensorflow:From /usr/local/lib/python3.6/dist-packages/tensorflow_core/python/ops/math_grad.py:1424: where (from tensorflow.python.ops.array_ops) is deprecated and will be removed in a future version.\n",
            "Instructions for updating:\n",
            "Use tf.where in 2.0, which has the same broadcast rule as np.where\n",
            "WARNING:tensorflow:From /usr/local/lib/python3.6/dist-packages/keras/backend/tensorflow_backend.py:1033: The name tf.assign_add is deprecated. Please use tf.compat.v1.assign_add instead.\n",
            "\n",
            "WARNING:tensorflow:From /usr/local/lib/python3.6/dist-packages/keras/backend/tensorflow_backend.py:1020: The name tf.assign is deprecated. Please use tf.compat.v1.assign instead.\n",
            "\n",
            "Train on 48000 samples, validate on 2000 samples\n",
            "Epoch 1/20\n",
            "48000/48000 [==============================] - 108s 2ms/step - loss: 1.9118 - acc: 0.2580 - val_loss: 1.8718 - val_acc: 0.2675\n",
            "Epoch 2/20\n",
            "48000/48000 [==============================] - 98s 2ms/step - loss: 1.7033 - acc: 0.3447 - val_loss: 1.5073 - val_acc: 0.4235\n",
            "Epoch 3/20\n",
            "48000/48000 [==============================] - 97s 2ms/step - loss: 1.3131 - acc: 0.5220 - val_loss: 1.2247 - val_acc: 0.6075\n",
            "Epoch 4/20\n",
            "48000/48000 [==============================] - 97s 2ms/step - loss: 0.7880 - acc: 0.7387 - val_loss: 0.5903 - val_acc: 0.8080\n",
            "Epoch 5/20\n",
            "48000/48000 [==============================] - 97s 2ms/step - loss: 0.5453 - acc: 0.8340 - val_loss: 0.3971 - val_acc: 0.8740\n",
            "Epoch 6/20\n",
            "48000/48000 [==============================] - 97s 2ms/step - loss: 0.4188 - acc: 0.8763 - val_loss: 0.2803 - val_acc: 0.9125\n",
            "Epoch 7/20\n",
            "48000/48000 [==============================] - 97s 2ms/step - loss: 0.3451 - acc: 0.9002 - val_loss: 0.2973 - val_acc: 0.9115\n",
            "Epoch 8/20\n",
            "48000/48000 [==============================] - 97s 2ms/step - loss: 0.3022 - acc: 0.9141 - val_loss: 0.1964 - val_acc: 0.9500\n",
            "Epoch 9/20\n",
            "48000/48000 [==============================] - 97s 2ms/step - loss: 0.2728 - acc: 0.9221 - val_loss: 0.2064 - val_acc: 0.9475\n",
            "Epoch 10/20\n",
            "48000/48000 [==============================] - 97s 2ms/step - loss: 0.2422 - acc: 0.9308 - val_loss: 0.2178 - val_acc: 0.9405\n",
            "Epoch 11/20\n",
            "48000/48000 [==============================] - 97s 2ms/step - loss: 0.2268 - acc: 0.9352 - val_loss: 0.1411 - val_acc: 0.9635\n",
            "Epoch 12/20\n",
            "48000/48000 [==============================] - 100s 2ms/step - loss: 0.2151 - acc: 0.9399 - val_loss: 0.1383 - val_acc: 0.9650\n",
            "Epoch 13/20\n",
            "48000/48000 [==============================] - 100s 2ms/step - loss: 0.1967 - acc: 0.9446 - val_loss: 0.2142 - val_acc: 0.9370\n",
            "Epoch 14/20\n",
            "48000/48000 [==============================] - 100s 2ms/step - loss: 0.1858 - acc: 0.9487 - val_loss: 0.1240 - val_acc: 0.9650\n",
            "Epoch 15/20\n",
            "48000/48000 [==============================] - 101s 2ms/step - loss: 0.1756 - acc: 0.9517 - val_loss: 0.1583 - val_acc: 0.9635\n",
            "Epoch 16/20\n",
            "48000/48000 [==============================] - 101s 2ms/step - loss: 0.1587 - acc: 0.9551 - val_loss: 0.1034 - val_acc: 0.9730\n",
            "Epoch 17/20\n",
            "48000/48000 [==============================] - 101s 2ms/step - loss: 0.1581 - acc: 0.9565 - val_loss: 0.1266 - val_acc: 0.9665\n",
            "Epoch 18/20\n",
            "44864/48000 [===========================>..] - ETA: 6s - loss: 0.1465 - acc: 0.9589"
          ],
          "name": "stdout"
        }
      ]
    },
    {
      "cell_type": "code",
      "metadata": {
        "id": "xUBu0YdsyOWS",
        "colab_type": "code",
        "outputId": "d497a8c8-44c9-438f-ac65-4147749f7f71",
        "colab": {
          "base_uri": "https://localhost:8080/",
          "height": 714
        }
      },
      "source": [
        "nadam = keras.optimizers.Nadam(lr=0.0001, beta_1=0.9, beta_2=0.999, epsilon=None, schedule_decay=0.004)\n",
        "\n",
        "model.compile(optimizer=nadam, loss='categorical_crossentropy', metrics=['accuracy'])\n",
        "early_stopping = EarlyStopping(monitor='val_loss', patience=3, verbose=2, mode='auto', min_delta=0.00001)\n",
        "\n",
        "model.fit(X_train, y_train, validation_split=0.1, epochs=20, callbacks=[early_stopping], batch_size=16)"
      ],
      "execution_count": 0,
      "outputs": [
        {
          "output_type": "stream",
          "text": [
            "Train on 46000 samples, validate on 4000 samples\n",
            "Epoch 1/20\n",
            "46000/46000 [==============================] - 274s 6ms/step - loss: 0.1574 - acc: 0.9558 - val_loss: 0.0775 - val_acc: 0.9770\n",
            "Epoch 2/20\n",
            "46000/46000 [==============================] - 271s 6ms/step - loss: 0.1412 - acc: 0.9607 - val_loss: 0.0737 - val_acc: 0.9800\n",
            "Epoch 3/20\n",
            "46000/46000 [==============================] - 269s 6ms/step - loss: 0.1277 - acc: 0.9640 - val_loss: 0.0712 - val_acc: 0.9792\n",
            "Epoch 4/20\n",
            "46000/46000 [==============================] - 268s 6ms/step - loss: 0.1251 - acc: 0.9645 - val_loss: 0.0656 - val_acc: 0.9810\n",
            "Epoch 5/20\n",
            "46000/46000 [==============================] - 268s 6ms/step - loss: 0.1161 - acc: 0.9675 - val_loss: 0.0671 - val_acc: 0.9810\n",
            "Epoch 6/20\n",
            "46000/46000 [==============================] - 268s 6ms/step - loss: 0.1122 - acc: 0.9677 - val_loss: 0.0674 - val_acc: 0.9820\n",
            "Epoch 7/20\n",
            "46000/46000 [==============================] - 268s 6ms/step - loss: 0.1141 - acc: 0.9674 - val_loss: 0.0653 - val_acc: 0.9800\n",
            "Epoch 8/20\n",
            "46000/46000 [==============================] - 267s 6ms/step - loss: 0.1110 - acc: 0.9691 - val_loss: 0.0644 - val_acc: 0.9822\n",
            "Epoch 9/20\n",
            "46000/46000 [==============================] - 245s 5ms/step - loss: 0.1038 - acc: 0.9705 - val_loss: 0.0638 - val_acc: 0.9800\n",
            "Epoch 10/20\n",
            "46000/46000 [==============================] - 268s 6ms/step - loss: 0.1010 - acc: 0.9717 - val_loss: 0.0637 - val_acc: 0.9828\n",
            "Epoch 11/20\n",
            "46000/46000 [==============================] - 268s 6ms/step - loss: 0.0991 - acc: 0.9715 - val_loss: 0.0698 - val_acc: 0.9812\n",
            "Epoch 12/20\n",
            "46000/46000 [==============================] - 268s 6ms/step - loss: 0.1016 - acc: 0.9721 - val_loss: 0.0709 - val_acc: 0.9822\n",
            "Epoch 13/20\n",
            "46000/46000 [==============================] - 268s 6ms/step - loss: 0.0975 - acc: 0.9718 - val_loss: 0.0630 - val_acc: 0.9820\n",
            "Epoch 14/20\n",
            "46000/46000 [==============================] - 268s 6ms/step - loss: 0.0953 - acc: 0.9729 - val_loss: 0.0646 - val_acc: 0.9828\n",
            "Epoch 15/20\n",
            "46000/46000 [==============================] - 268s 6ms/step - loss: 0.0917 - acc: 0.9731 - val_loss: 0.0625 - val_acc: 0.9805\n",
            "Epoch 16/20\n",
            "46000/46000 [==============================] - 268s 6ms/step - loss: 0.0924 - acc: 0.9732 - val_loss: 0.0598 - val_acc: 0.9818\n",
            "Epoch 17/20\n",
            "46000/46000 [==============================] - 268s 6ms/step - loss: 0.0899 - acc: 0.9737 - val_loss: 0.0662 - val_acc: 0.9808\n",
            "Epoch 18/20\n",
            "46000/46000 [==============================] - 270s 6ms/step - loss: 0.0859 - acc: 0.9744 - val_loss: 0.0621 - val_acc: 0.9812\n",
            "Epoch 19/20\n",
            "46000/46000 [==============================] - 271s 6ms/step - loss: 0.0863 - acc: 0.9747 - val_loss: 0.0637 - val_acc: 0.9812\n",
            "Epoch 00019: early stopping\n"
          ],
          "name": "stdout"
        },
        {
          "output_type": "execute_result",
          "data": {
            "text/plain": [
              "<keras.callbacks.History at 0x7f44a058fe48>"
            ]
          },
          "metadata": {
            "tags": []
          },
          "execution_count": 6
        }
      ]
    },
    {
      "cell_type": "code",
      "metadata": {
        "id": "b9-G3OpThCzH",
        "colab_type": "code",
        "outputId": "bc06a710-6e4e-4a0f-abbb-482214fafffa",
        "colab": {
          "base_uri": "https://localhost:8080/",
          "height": 204
        }
      },
      "source": [
        "adam = keras.optimizers.adam(lr=0.0001)\n",
        "\n",
        "model.compile(optimizer=adam, loss='categorical_crossentropy', metrics=['accuracy'])\n",
        "early_stopping = EarlyStopping(monitor='val_loss', patience=3, verbose=2, mode='auto', min_delta=0.00001)\n",
        "\n",
        "model.fit(X_train, y_train, validation_split=0.1, epochs=20, callbacks=[early_stopping], batch_size=16)"
      ],
      "execution_count": 0,
      "outputs": [
        {
          "output_type": "stream",
          "text": [
            "Train on 45000 samples, validate on 5000 samples\n",
            "Epoch 1/20\n",
            "45000/45000 [==============================] - 254s 6ms/step - loss: 0.0848 - acc: 0.9751 - val_loss: 0.0561 - val_acc: 0.9854\n",
            "Epoch 2/20\n",
            "45000/45000 [==============================] - 231s 5ms/step - loss: 0.0818 - acc: 0.9759 - val_loss: 0.0633 - val_acc: 0.9848\n",
            "Epoch 3/20\n",
            "45000/45000 [==============================] - 231s 5ms/step - loss: 0.0795 - acc: 0.9772 - val_loss: 0.0635 - val_acc: 0.9832\n",
            "Epoch 4/20\n",
            "45000/45000 [==============================] - 231s 5ms/step - loss: 0.0792 - acc: 0.9767 - val_loss: 0.0613 - val_acc: 0.9846\n",
            "Epoch 00004: early stopping\n"
          ],
          "name": "stdout"
        },
        {
          "output_type": "execute_result",
          "data": {
            "text/plain": [
              "<keras.callbacks.History at 0x7f44a039ed68>"
            ]
          },
          "metadata": {
            "tags": []
          },
          "execution_count": 8
        }
      ]
    },
    {
      "cell_type": "code",
      "metadata": {
        "id": "eJPC4h524-fx",
        "colab_type": "code",
        "outputId": "95f1a479-106d-4426-a7b3-32a207dfb67c",
        "colab": {
          "base_uri": "https://localhost:8080/",
          "height": 408
        }
      },
      "source": [
        "\n",
        "model.compile(optimizer=nadam, loss='categorical_crossentropy', metrics=['accuracy'])\n",
        "early_stopping = EarlyStopping(monitor='val_loss', patience=3, verbose=2, mode='auto', min_delta=0.00001)\n",
        "\n",
        "model.fit(X_train, y_train, validation_split=0.1, epochs=20, callbacks=[early_stopping], batch_size=32)"
      ],
      "execution_count": 0,
      "outputs": [
        {
          "output_type": "stream",
          "text": [
            "Train on 45000 samples, validate on 5000 samples\n",
            "Epoch 1/20\n",
            "45000/45000 [==============================] - 211s 5ms/step - loss: 0.0653 - acc: 0.9805 - val_loss: 0.0631 - val_acc: 0.9820\n",
            "Epoch 2/20\n",
            "45000/45000 [==============================] - 200s 4ms/step - loss: 0.0590 - acc: 0.9816 - val_loss: 0.0663 - val_acc: 0.9822\n",
            "Epoch 3/20\n",
            "45000/45000 [==============================] - 200s 4ms/step - loss: 0.0575 - acc: 0.9819 - val_loss: 0.0622 - val_acc: 0.9822\n",
            "Epoch 4/20\n",
            "45000/45000 [==============================] - 199s 4ms/step - loss: 0.0557 - acc: 0.9834 - val_loss: 0.0586 - val_acc: 0.9844\n",
            "Epoch 5/20\n",
            "45000/45000 [==============================] - 200s 4ms/step - loss: 0.0545 - acc: 0.9836 - val_loss: 0.0584 - val_acc: 0.9834\n",
            "Epoch 6/20\n",
            "45000/45000 [==============================] - 200s 4ms/step - loss: 0.0535 - acc: 0.9833 - val_loss: 0.0573 - val_acc: 0.9848\n",
            "Epoch 7/20\n",
            "45000/45000 [==============================] - 200s 4ms/step - loss: 0.0510 - acc: 0.9838 - val_loss: 0.0570 - val_acc: 0.9848\n",
            "Epoch 8/20\n",
            "45000/45000 [==============================] - 200s 4ms/step - loss: 0.0537 - acc: 0.9834 - val_loss: 0.0589 - val_acc: 0.9846\n",
            "Epoch 9/20\n",
            "45000/45000 [==============================] - 200s 4ms/step - loss: 0.0531 - acc: 0.9844 - val_loss: 0.0576 - val_acc: 0.9844\n",
            "Epoch 10/20\n",
            "45000/45000 [==============================] - 199s 4ms/step - loss: 0.0539 - acc: 0.9833 - val_loss: 0.0592 - val_acc: 0.9840\n",
            "Epoch 00010: early stopping\n"
          ],
          "name": "stdout"
        },
        {
          "output_type": "execute_result",
          "data": {
            "text/plain": [
              "<keras.callbacks.History at 0x7f449ffa9438>"
            ]
          },
          "metadata": {
            "tags": []
          },
          "execution_count": 10
        }
      ]
    },
    {
      "cell_type": "code",
      "metadata": {
        "id": "zKpFSPfwo0Mr",
        "colab_type": "code",
        "outputId": "ad9cb687-606a-4210-a36a-eae9139553b4",
        "colab": {
          "base_uri": "https://localhost:8080/",
          "height": 306
        }
      },
      "source": [
        "model.compile(optimizer=nadam, loss='categorical_crossentropy', metrics=['accuracy'])\n",
        "early_stopping = EarlyStopping(monitor='val_loss', patience=3, verbose=2, mode='auto', min_delta=0.00001)\n",
        "\n",
        "model.fit(X_train, y_train, validation_split=0.2, epochs=20, callbacks=[early_stopping], batch_size=16)"
      ],
      "execution_count": 0,
      "outputs": [
        {
          "output_type": "stream",
          "text": [
            "Train on 40000 samples, validate on 10000 samples\n",
            "Epoch 1/20\n",
            "40000/40000 [==============================] - 225s 6ms/step - loss: 0.0737 - acc: 0.9795 - val_loss: 0.0473 - val_acc: 0.9875\n",
            "Epoch 2/20\n",
            "40000/40000 [==============================] - 223s 6ms/step - loss: 0.0649 - acc: 0.9814 - val_loss: 0.0475 - val_acc: 0.9871\n",
            "Epoch 3/20\n",
            "40000/40000 [==============================] - 223s 6ms/step - loss: 0.0673 - acc: 0.9810 - val_loss: 0.0476 - val_acc: 0.9872\n",
            "Epoch 4/20\n",
            "40000/40000 [==============================] - 223s 6ms/step - loss: 0.0648 - acc: 0.9814 - val_loss: 0.0430 - val_acc: 0.9888\n",
            "Epoch 5/20\n",
            "40000/40000 [==============================] - 223s 6ms/step - loss: 0.0646 - acc: 0.9810 - val_loss: 0.0452 - val_acc: 0.9878\n",
            "Epoch 6/20\n",
            "40000/40000 [==============================] - 223s 6ms/step - loss: 0.0612 - acc: 0.9817 - val_loss: 0.0466 - val_acc: 0.9878\n",
            "Epoch 7/20\n",
            "40000/40000 [==============================] - 223s 6ms/step - loss: 0.0599 - acc: 0.9826 - val_loss: 0.0489 - val_acc: 0.9868\n",
            "Epoch 00007: early stopping\n"
          ],
          "name": "stdout"
        },
        {
          "output_type": "execute_result",
          "data": {
            "text/plain": [
              "<keras.callbacks.History at 0x7f44ee4b3710>"
            ]
          },
          "metadata": {
            "tags": []
          },
          "execution_count": 14
        }
      ]
    },
    {
      "cell_type": "code",
      "metadata": {
        "id": "ombyzQ2C49gy",
        "colab_type": "code",
        "outputId": "a0831f5e-742a-4aff-dca2-245f7f6c256a",
        "colab": {
          "base_uri": "https://localhost:8080/",
          "height": 340
        }
      },
      "source": [
        "model.compile(optimizer=nadam, loss='categorical_crossentropy', metrics=['accuracy'])\n",
        "early_stopping = EarlyStopping(monitor='val_loss', patience=3, verbose=2, mode='auto', min_delta=0.000001)\n",
        "\n",
        "model.fit(X_train, y_train, validation_split=0.2, epochs=20, callbacks=[early_stopping], batch_size=16)"
      ],
      "execution_count": 0,
      "outputs": [
        {
          "output_type": "stream",
          "text": [
            "Train on 40000 samples, validate on 10000 samples\n",
            "Epoch 1/20\n",
            "40000/40000 [==============================] - 230s 6ms/step - loss: 0.0734 - acc: 0.9784 - val_loss: 0.0493 - val_acc: 0.9864\n",
            "Epoch 2/20\n",
            "40000/40000 [==============================] - 227s 6ms/step - loss: 0.0635 - acc: 0.9807 - val_loss: 0.0516 - val_acc: 0.9864\n",
            "Epoch 3/20\n",
            "40000/40000 [==============================] - 228s 6ms/step - loss: 0.0637 - acc: 0.9817 - val_loss: 0.0470 - val_acc: 0.9884\n",
            "Epoch 4/20\n",
            "40000/40000 [==============================] - 227s 6ms/step - loss: 0.0613 - acc: 0.9822 - val_loss: 0.0483 - val_acc: 0.9865\n",
            "Epoch 5/20\n",
            "40000/40000 [==============================] - 227s 6ms/step - loss: 0.0639 - acc: 0.9809 - val_loss: 0.0464 - val_acc: 0.9876\n",
            "Epoch 6/20\n",
            "40000/40000 [==============================] - 227s 6ms/step - loss: 0.0630 - acc: 0.9818 - val_loss: 0.0482 - val_acc: 0.9864\n",
            "Epoch 7/20\n",
            "40000/40000 [==============================] - 228s 6ms/step - loss: 0.0582 - acc: 0.9829 - val_loss: 0.0498 - val_acc: 0.9878\n",
            "Epoch 8/20\n",
            "40000/40000 [==============================] - 229s 6ms/step - loss: 0.0609 - acc: 0.9815 - val_loss: 0.0531 - val_acc: 0.9846\n",
            "Epoch 00008: early stopping\n"
          ],
          "name": "stdout"
        },
        {
          "output_type": "execute_result",
          "data": {
            "text/plain": [
              "<keras.callbacks.History at 0x7f449ee2b080>"
            ]
          },
          "metadata": {
            "tags": []
          },
          "execution_count": 15
        }
      ]
    },
    {
      "cell_type": "code",
      "metadata": {
        "id": "EJ3mtaGqBQT1",
        "colab_type": "code",
        "outputId": "4b24a8af-a833-4048-b58a-2307937b9b3a",
        "colab": {
          "base_uri": "https://localhost:8080/",
          "height": 306
        }
      },
      "source": [
        "adam = keras.optimizers.adam(lr=0.00005)\n",
        "\n",
        "model.compile(optimizer=adam, loss='categorical_crossentropy', metrics=['accuracy'])\n",
        "early_stopping = EarlyStopping(monitor='val_loss', patience=3, verbose=2, mode='auto', min_delta=0.000001)\n",
        "\n",
        "model.fit(X_train, y_train, validation_split=0.2, epochs=20, callbacks=[early_stopping], batch_size=16)"
      ],
      "execution_count": 0,
      "outputs": [
        {
          "output_type": "stream",
          "text": [
            "Train on 40000 samples, validate on 10000 samples\n",
            "Epoch 1/20\n",
            "40000/40000 [==============================] - 217s 5ms/step - loss: 0.0506 - acc: 0.9857 - val_loss: 0.0486 - val_acc: 0.9872\n",
            "Epoch 2/20\n",
            "40000/40000 [==============================] - 215s 5ms/step - loss: 0.0513 - acc: 0.9847 - val_loss: 0.0481 - val_acc: 0.9866\n",
            "Epoch 3/20\n",
            "40000/40000 [==============================] - 214s 5ms/step - loss: 0.0510 - acc: 0.9852 - val_loss: 0.0477 - val_acc: 0.9873\n",
            "Epoch 4/20\n",
            "40000/40000 [==============================] - 214s 5ms/step - loss: 0.0491 - acc: 0.9849 - val_loss: 0.0444 - val_acc: 0.9883\n",
            "Epoch 5/20\n",
            "40000/40000 [==============================] - 214s 5ms/step - loss: 0.0495 - acc: 0.9853 - val_loss: 0.0461 - val_acc: 0.9872\n",
            "Epoch 6/20\n",
            "40000/40000 [==============================] - 214s 5ms/step - loss: 0.0508 - acc: 0.9848 - val_loss: 0.0471 - val_acc: 0.9874\n",
            "Epoch 7/20\n",
            "40000/40000 [==============================] - 214s 5ms/step - loss: 0.0511 - acc: 0.9849 - val_loss: 0.0482 - val_acc: 0.9864\n",
            "Epoch 00007: early stopping\n"
          ],
          "name": "stdout"
        },
        {
          "output_type": "execute_result",
          "data": {
            "text/plain": [
              "<keras.callbacks.History at 0x7f449e5d65c0>"
            ]
          },
          "metadata": {
            "tags": []
          },
          "execution_count": 17
        }
      ]
    },
    {
      "cell_type": "code",
      "metadata": {
        "id": "NSKO3WzWsT5S",
        "colab_type": "code",
        "outputId": "d4c95886-ea6c-465c-9c2d-9e35e577c152",
        "colab": {
          "base_uri": "https://localhost:8080/",
          "height": 374
        }
      },
      "source": [
        "sgd = keras.optimizers.SGD(lr=0.00001, momentum=0.0, decay=0.0, nesterov=False)\n",
        "\n",
        "model.compile(optimizer=sgd, loss='categorical_crossentropy', metrics=['accuracy'])\n",
        "early_stopping = EarlyStopping(monitor='val_loss', patience=3, verbose=2, mode='auto', min_delta=0.00001)\n",
        "\n",
        "model.fit(X_train, y_train, validation_split=0.2, epochs=20, callbacks=[early_stopping], batch_size=16)"
      ],
      "execution_count": 0,
      "outputs": [
        {
          "output_type": "stream",
          "text": [
            "Train on 40000 samples, validate on 10000 samples\n",
            "Epoch 1/20\n",
            "40000/40000 [==============================] - 200s 5ms/step - loss: 0.0456 - acc: 0.9857 - val_loss: 0.0468 - val_acc: 0.9872\n",
            "Epoch 2/20\n",
            "40000/40000 [==============================] - 197s 5ms/step - loss: 0.0468 - acc: 0.9862 - val_loss: 0.0457 - val_acc: 0.9876\n",
            "Epoch 3/20\n",
            "40000/40000 [==============================] - 197s 5ms/step - loss: 0.0486 - acc: 0.9849 - val_loss: 0.0458 - val_acc: 0.9876\n",
            "Epoch 4/20\n",
            "40000/40000 [==============================] - 197s 5ms/step - loss: 0.0459 - acc: 0.9862 - val_loss: 0.0455 - val_acc: 0.9878\n",
            "Epoch 5/20\n",
            "40000/40000 [==============================] - 197s 5ms/step - loss: 0.0420 - acc: 0.9870 - val_loss: 0.0452 - val_acc: 0.9878\n",
            "Epoch 6/20\n",
            "40000/40000 [==============================] - 196s 5ms/step - loss: 0.0472 - acc: 0.9859 - val_loss: 0.0448 - val_acc: 0.9879\n",
            "Epoch 7/20\n",
            "40000/40000 [==============================] - 197s 5ms/step - loss: 0.0474 - acc: 0.9855 - val_loss: 0.0453 - val_acc: 0.9881\n",
            "Epoch 8/20\n",
            "40000/40000 [==============================] - 194s 5ms/step - loss: 0.0480 - acc: 0.9860 - val_loss: 0.0448 - val_acc: 0.9880\n",
            "Epoch 9/20\n",
            "40000/40000 [==============================] - 194s 5ms/step - loss: 0.0454 - acc: 0.9866 - val_loss: 0.0450 - val_acc: 0.9879\n",
            "Epoch 00009: early stopping\n"
          ],
          "name": "stdout"
        },
        {
          "output_type": "execute_result",
          "data": {
            "text/plain": [
              "<keras.callbacks.History at 0x7f449e214b00>"
            ]
          },
          "metadata": {
            "tags": []
          },
          "execution_count": 22
        }
      ]
    },
    {
      "cell_type": "code",
      "metadata": {
        "id": "KbDjsLUH4gj5",
        "colab_type": "code",
        "outputId": "a038bc10-6bad-4708-d05d-d5b1093a4481",
        "colab": {
          "base_uri": "https://localhost:8080/",
          "height": 392
        }
      },
      "source": [
        "sgd = keras.optimizers.SGD(lr=0.00001, decay=1e-6, momentum=0.9, nesterov=True)\n",
        "\n",
        "model.compile(optimizer=sgd, loss='categorical_crossentropy', metrics=['accuracy'])\n",
        "early_stopping = EarlyStopping(monitor='val_loss', patience=3, verbose=2, mode='auto', min_delta=0.00001)\n",
        "\n",
        "model.fit(X_train, y_train, validation_split=0.2, epochs=20, callbacks=[early_stopping], batch_size=8)"
      ],
      "execution_count": 0,
      "outputs": [
        {
          "output_type": "stream",
          "text": [
            "Train on 40000 samples, validate on 10000 samples\n",
            "Epoch 1/20\n",
            "14696/40000 [==========>...................] - ETA: 2:52 - loss: 0.7195 - acc: 0.8415"
          ],
          "name": "stdout"
        },
        {
          "output_type": "error",
          "ename": "KeyboardInterrupt",
          "evalue": "ignored",
          "traceback": [
            "\u001b[0;31m---------------------------------------------------------------------------\u001b[0m",
            "\u001b[0;31mKeyboardInterrupt\u001b[0m                         Traceback (most recent call last)",
            "\u001b[0;32m<ipython-input-29-9eaa2f239544>\u001b[0m in \u001b[0;36m<module>\u001b[0;34m()\u001b[0m\n\u001b[1;32m      4\u001b[0m \u001b[0mearly_stopping\u001b[0m \u001b[0;34m=\u001b[0m \u001b[0mEarlyStopping\u001b[0m\u001b[0;34m(\u001b[0m\u001b[0mmonitor\u001b[0m\u001b[0;34m=\u001b[0m\u001b[0;34m'val_loss'\u001b[0m\u001b[0;34m,\u001b[0m \u001b[0mpatience\u001b[0m\u001b[0;34m=\u001b[0m\u001b[0;36m3\u001b[0m\u001b[0;34m,\u001b[0m \u001b[0mverbose\u001b[0m\u001b[0;34m=\u001b[0m\u001b[0;36m2\u001b[0m\u001b[0;34m,\u001b[0m \u001b[0mmode\u001b[0m\u001b[0;34m=\u001b[0m\u001b[0;34m'auto'\u001b[0m\u001b[0;34m,\u001b[0m \u001b[0mmin_delta\u001b[0m\u001b[0;34m=\u001b[0m\u001b[0;36m0.00001\u001b[0m\u001b[0;34m)\u001b[0m\u001b[0;34m\u001b[0m\u001b[0;34m\u001b[0m\u001b[0m\n\u001b[1;32m      5\u001b[0m \u001b[0;34m\u001b[0m\u001b[0m\n\u001b[0;32m----> 6\u001b[0;31m \u001b[0mmodel\u001b[0m\u001b[0;34m.\u001b[0m\u001b[0mfit\u001b[0m\u001b[0;34m(\u001b[0m\u001b[0mX_train\u001b[0m\u001b[0;34m,\u001b[0m \u001b[0my_train\u001b[0m\u001b[0;34m,\u001b[0m \u001b[0mvalidation_split\u001b[0m\u001b[0;34m=\u001b[0m\u001b[0;36m0.2\u001b[0m\u001b[0;34m,\u001b[0m \u001b[0mepochs\u001b[0m\u001b[0;34m=\u001b[0m\u001b[0;36m20\u001b[0m\u001b[0;34m,\u001b[0m \u001b[0mcallbacks\u001b[0m\u001b[0;34m=\u001b[0m\u001b[0;34m[\u001b[0m\u001b[0mearly_stopping\u001b[0m\u001b[0;34m]\u001b[0m\u001b[0;34m,\u001b[0m \u001b[0mbatch_size\u001b[0m\u001b[0;34m=\u001b[0m\u001b[0;36m8\u001b[0m\u001b[0;34m)\u001b[0m\u001b[0;34m\u001b[0m\u001b[0;34m\u001b[0m\u001b[0m\n\u001b[0m",
            "\u001b[0;32m/usr/local/lib/python3.6/dist-packages/keras/engine/training.py\u001b[0m in \u001b[0;36mfit\u001b[0;34m(self, x, y, batch_size, epochs, verbose, callbacks, validation_split, validation_data, shuffle, class_weight, sample_weight, initial_epoch, steps_per_epoch, validation_steps, validation_freq, max_queue_size, workers, use_multiprocessing, **kwargs)\u001b[0m\n\u001b[1;32m   1176\u001b[0m                                         \u001b[0msteps_per_epoch\u001b[0m\u001b[0;34m=\u001b[0m\u001b[0msteps_per_epoch\u001b[0m\u001b[0;34m,\u001b[0m\u001b[0;34m\u001b[0m\u001b[0;34m\u001b[0m\u001b[0m\n\u001b[1;32m   1177\u001b[0m                                         \u001b[0mvalidation_steps\u001b[0m\u001b[0;34m=\u001b[0m\u001b[0mvalidation_steps\u001b[0m\u001b[0;34m,\u001b[0m\u001b[0;34m\u001b[0m\u001b[0;34m\u001b[0m\u001b[0m\n\u001b[0;32m-> 1178\u001b[0;31m                                         validation_freq=validation_freq)\n\u001b[0m\u001b[1;32m   1179\u001b[0m \u001b[0;34m\u001b[0m\u001b[0m\n\u001b[1;32m   1180\u001b[0m     def evaluate(self,\n",
            "\u001b[0;32m/usr/local/lib/python3.6/dist-packages/keras/engine/training_arrays.py\u001b[0m in \u001b[0;36mfit_loop\u001b[0;34m(model, fit_function, fit_inputs, out_labels, batch_size, epochs, verbose, callbacks, val_function, val_inputs, shuffle, callback_metrics, initial_epoch, steps_per_epoch, validation_steps, validation_freq)\u001b[0m\n\u001b[1;32m    202\u001b[0m                     \u001b[0mins_batch\u001b[0m\u001b[0;34m[\u001b[0m\u001b[0mi\u001b[0m\u001b[0;34m]\u001b[0m \u001b[0;34m=\u001b[0m \u001b[0mins_batch\u001b[0m\u001b[0;34m[\u001b[0m\u001b[0mi\u001b[0m\u001b[0;34m]\u001b[0m\u001b[0;34m.\u001b[0m\u001b[0mtoarray\u001b[0m\u001b[0;34m(\u001b[0m\u001b[0;34m)\u001b[0m\u001b[0;34m\u001b[0m\u001b[0;34m\u001b[0m\u001b[0m\n\u001b[1;32m    203\u001b[0m \u001b[0;34m\u001b[0m\u001b[0m\n\u001b[0;32m--> 204\u001b[0;31m                 \u001b[0mouts\u001b[0m \u001b[0;34m=\u001b[0m \u001b[0mfit_function\u001b[0m\u001b[0;34m(\u001b[0m\u001b[0mins_batch\u001b[0m\u001b[0;34m)\u001b[0m\u001b[0;34m\u001b[0m\u001b[0;34m\u001b[0m\u001b[0m\n\u001b[0m\u001b[1;32m    205\u001b[0m                 \u001b[0mouts\u001b[0m \u001b[0;34m=\u001b[0m \u001b[0mto_list\u001b[0m\u001b[0;34m(\u001b[0m\u001b[0mouts\u001b[0m\u001b[0;34m)\u001b[0m\u001b[0;34m\u001b[0m\u001b[0;34m\u001b[0m\u001b[0m\n\u001b[1;32m    206\u001b[0m                 \u001b[0;32mfor\u001b[0m \u001b[0ml\u001b[0m\u001b[0;34m,\u001b[0m \u001b[0mo\u001b[0m \u001b[0;32min\u001b[0m \u001b[0mzip\u001b[0m\u001b[0;34m(\u001b[0m\u001b[0mout_labels\u001b[0m\u001b[0;34m,\u001b[0m \u001b[0mouts\u001b[0m\u001b[0;34m)\u001b[0m\u001b[0;34m:\u001b[0m\u001b[0;34m\u001b[0m\u001b[0;34m\u001b[0m\u001b[0m\n",
            "\u001b[0;32m/usr/local/lib/python3.6/dist-packages/keras/backend/tensorflow_backend.py\u001b[0m in \u001b[0;36m__call__\u001b[0;34m(self, inputs)\u001b[0m\n\u001b[1;32m   2977\u001b[0m                     \u001b[0;32mreturn\u001b[0m \u001b[0mself\u001b[0m\u001b[0;34m.\u001b[0m\u001b[0m_legacy_call\u001b[0m\u001b[0;34m(\u001b[0m\u001b[0minputs\u001b[0m\u001b[0;34m)\u001b[0m\u001b[0;34m\u001b[0m\u001b[0;34m\u001b[0m\u001b[0m\n\u001b[1;32m   2978\u001b[0m \u001b[0;34m\u001b[0m\u001b[0m\n\u001b[0;32m-> 2979\u001b[0;31m             \u001b[0;32mreturn\u001b[0m \u001b[0mself\u001b[0m\u001b[0;34m.\u001b[0m\u001b[0m_call\u001b[0m\u001b[0;34m(\u001b[0m\u001b[0minputs\u001b[0m\u001b[0;34m)\u001b[0m\u001b[0;34m\u001b[0m\u001b[0;34m\u001b[0m\u001b[0m\n\u001b[0m\u001b[1;32m   2980\u001b[0m         \u001b[0;32melse\u001b[0m\u001b[0;34m:\u001b[0m\u001b[0;34m\u001b[0m\u001b[0;34m\u001b[0m\u001b[0m\n\u001b[1;32m   2981\u001b[0m             \u001b[0;32mif\u001b[0m \u001b[0mpy_any\u001b[0m\u001b[0;34m(\u001b[0m\u001b[0mis_tensor\u001b[0m\u001b[0;34m(\u001b[0m\u001b[0mx\u001b[0m\u001b[0;34m)\u001b[0m \u001b[0;32mfor\u001b[0m \u001b[0mx\u001b[0m \u001b[0;32min\u001b[0m \u001b[0minputs\u001b[0m\u001b[0;34m)\u001b[0m\u001b[0;34m:\u001b[0m\u001b[0;34m\u001b[0m\u001b[0;34m\u001b[0m\u001b[0m\n",
            "\u001b[0;32m/usr/local/lib/python3.6/dist-packages/keras/backend/tensorflow_backend.py\u001b[0m in \u001b[0;36m_call\u001b[0;34m(self, inputs)\u001b[0m\n\u001b[1;32m   2935\u001b[0m             \u001b[0mfetched\u001b[0m \u001b[0;34m=\u001b[0m \u001b[0mself\u001b[0m\u001b[0;34m.\u001b[0m\u001b[0m_callable_fn\u001b[0m\u001b[0;34m(\u001b[0m\u001b[0;34m*\u001b[0m\u001b[0marray_vals\u001b[0m\u001b[0;34m,\u001b[0m \u001b[0mrun_metadata\u001b[0m\u001b[0;34m=\u001b[0m\u001b[0mself\u001b[0m\u001b[0;34m.\u001b[0m\u001b[0mrun_metadata\u001b[0m\u001b[0;34m)\u001b[0m\u001b[0;34m\u001b[0m\u001b[0;34m\u001b[0m\u001b[0m\n\u001b[1;32m   2936\u001b[0m         \u001b[0;32melse\u001b[0m\u001b[0;34m:\u001b[0m\u001b[0;34m\u001b[0m\u001b[0;34m\u001b[0m\u001b[0m\n\u001b[0;32m-> 2937\u001b[0;31m             \u001b[0mfetched\u001b[0m \u001b[0;34m=\u001b[0m \u001b[0mself\u001b[0m\u001b[0;34m.\u001b[0m\u001b[0m_callable_fn\u001b[0m\u001b[0;34m(\u001b[0m\u001b[0;34m*\u001b[0m\u001b[0marray_vals\u001b[0m\u001b[0;34m)\u001b[0m\u001b[0;34m\u001b[0m\u001b[0;34m\u001b[0m\u001b[0m\n\u001b[0m\u001b[1;32m   2938\u001b[0m         \u001b[0;32mreturn\u001b[0m \u001b[0mfetched\u001b[0m\u001b[0;34m[\u001b[0m\u001b[0;34m:\u001b[0m\u001b[0mlen\u001b[0m\u001b[0;34m(\u001b[0m\u001b[0mself\u001b[0m\u001b[0;34m.\u001b[0m\u001b[0moutputs\u001b[0m\u001b[0;34m)\u001b[0m\u001b[0;34m]\u001b[0m\u001b[0;34m\u001b[0m\u001b[0;34m\u001b[0m\u001b[0m\n\u001b[1;32m   2939\u001b[0m \u001b[0;34m\u001b[0m\u001b[0m\n",
            "\u001b[0;32m/usr/local/lib/python3.6/dist-packages/tensorflow_core/python/client/session.py\u001b[0m in \u001b[0;36m__call__\u001b[0;34m(self, *args, **kwargs)\u001b[0m\n\u001b[1;32m   1470\u001b[0m         ret = tf_session.TF_SessionRunCallable(self._session._session,\n\u001b[1;32m   1471\u001b[0m                                                \u001b[0mself\u001b[0m\u001b[0;34m.\u001b[0m\u001b[0m_handle\u001b[0m\u001b[0;34m,\u001b[0m \u001b[0margs\u001b[0m\u001b[0;34m,\u001b[0m\u001b[0;34m\u001b[0m\u001b[0;34m\u001b[0m\u001b[0m\n\u001b[0;32m-> 1472\u001b[0;31m                                                run_metadata_ptr)\n\u001b[0m\u001b[1;32m   1473\u001b[0m         \u001b[0;32mif\u001b[0m \u001b[0mrun_metadata\u001b[0m\u001b[0;34m:\u001b[0m\u001b[0;34m\u001b[0m\u001b[0;34m\u001b[0m\u001b[0m\n\u001b[1;32m   1474\u001b[0m           \u001b[0mproto_data\u001b[0m \u001b[0;34m=\u001b[0m \u001b[0mtf_session\u001b[0m\u001b[0;34m.\u001b[0m\u001b[0mTF_GetBuffer\u001b[0m\u001b[0;34m(\u001b[0m\u001b[0mrun_metadata_ptr\u001b[0m\u001b[0;34m)\u001b[0m\u001b[0;34m\u001b[0m\u001b[0;34m\u001b[0m\u001b[0m\n",
            "\u001b[0;31mKeyboardInterrupt\u001b[0m: "
          ]
        }
      ]
    },
    {
      "cell_type": "code",
      "metadata": {
        "id": "kXtcwjtgYgGP",
        "colab_type": "code",
        "outputId": "dd0955d4-3298-4f65-a792-8d3b3b964830",
        "colab": {
          "base_uri": "https://localhost:8080/",
          "height": 238
        }
      },
      "source": [
        "sgd = keras.optimizers.SGD(lr=0.00001, momentum=0.0, decay=0.0, nesterov=False)\n",
        "\n",
        "model.compile(optimizer=sgd, loss='categorical_crossentropy', metrics=['accuracy'])\n",
        "early_stopping = EarlyStopping(monitor='val_loss', patience=3, verbose=2, mode='auto', min_delta=0.00001)\n",
        "\n",
        "model.fit(X_train, y_train, validation_split=0.2, epochs=20, callbacks=[early_stopping], batch_size=8)"
      ],
      "execution_count": 0,
      "outputs": [
        {
          "output_type": "stream",
          "text": [
            "Train on 40000 samples, validate on 10000 samples\n",
            "Epoch 1/20\n",
            "40000/40000 [==============================] - 278s 7ms/step - loss: 0.1200 - acc: 0.9742 - val_loss: 0.0473 - val_acc: 0.9874\n",
            "Epoch 2/20\n",
            "40000/40000 [==============================] - 278s 7ms/step - loss: 0.0899 - acc: 0.9793 - val_loss: 0.0453 - val_acc: 0.9880\n",
            "Epoch 3/20\n",
            "40000/40000 [==============================] - 276s 7ms/step - loss: 0.0997 - acc: 0.9781 - val_loss: 0.0478 - val_acc: 0.9878\n",
            "Epoch 4/20\n",
            "40000/40000 [==============================] - 274s 7ms/step - loss: 0.1020 - acc: 0.9777 - val_loss: 0.0465 - val_acc: 0.9877\n",
            "Epoch 5/20\n",
            "40000/40000 [==============================] - 274s 7ms/step - loss: 0.0945 - acc: 0.9783 - val_loss: 0.0459 - val_acc: 0.9882\n",
            "Epoch 00005: early stopping\n"
          ],
          "name": "stdout"
        },
        {
          "output_type": "execute_result",
          "data": {
            "text/plain": [
              "<keras.callbacks.History at 0x7f449dbc4be0>"
            ]
          },
          "metadata": {
            "tags": []
          },
          "execution_count": 28
        }
      ]
    },
    {
      "cell_type": "code",
      "metadata": {
        "id": "sjD5snQDPuDf",
        "colab_type": "code",
        "colab": {}
      },
      "source": [
        "\n",
        "result = model.predict_classes(test)"
      ],
      "execution_count": 0,
      "outputs": []
    },
    {
      "cell_type": "code",
      "metadata": {
        "id": "4e9W_AVihdox",
        "colab_type": "code",
        "outputId": "f66f5e82-0fb5-4920-e73d-974398e33c0f",
        "colab": {
          "base_uri": "https://localhost:8080/",
          "height": 34
        }
      },
      "source": [
        "len(result)"
      ],
      "execution_count": 0,
      "outputs": [
        {
          "output_type": "execute_result",
          "data": {
            "text/plain": [
              "10000"
            ]
          },
          "metadata": {
            "tags": []
          },
          "execution_count": 19
        }
      ]
    },
    {
      "cell_type": "code",
      "metadata": {
        "id": "EKKtDw1srrz7",
        "colab_type": "code",
        "colab": {}
      },
      "source": [
        "from google.colab import files\n",
        "np.savetxt('proj3_pred20.csv', np.dstack((np.arange(0, result.size),result))[0],\"%s,%s\",header=\"Id,Label\")\n",
        "files.download('proj3_pred20.csv')"
      ],
      "execution_count": 0,
      "outputs": []
    },
    {
      "cell_type": "code",
      "metadata": {
        "id": "NyBuIfBas4O_",
        "colab_type": "code",
        "colab": {}
      },
      "source": [
        "from sklearn.cluster import KMeans\n",
        "\n",
        "X_train_image = []\n",
        "for i in range(len(X_train)):\n",
        "    X_image = X_train[i].copy()\n",
        "    X_image_copy = X_train_copy[i].copy()\n",
        "    coordinates = []\n",
        "    coordinates_add = []\n",
        "\n",
        "    for x in range(128):\n",
        "        for y in range(128):\n",
        "            if X_image[x][y] == 1:\n",
        "                coordinates.append([x,y])\n",
        "            else:\n",
        "                coordinates_add.append([x,y])\n",
        "\n",
        "                \n",
        "                \n",
        "    kmeans = KMeans(n_clusters=3)\n",
        "    para = kmeans.fit(coordinates)\n",
        "    y_kmeans = para.predict(coordinates)\n",
        "    \n",
        "    number_one = []\n",
        "    number_two = []\n",
        "    number_three = []\n",
        "    x_min = 128\n",
        "    y_min = 128\n",
        "    x_max = 0\n",
        "    y_max = 0\n",
        "    row = []\n",
        "    col = []\n",
        "\n",
        "    for label in range(len(y_kmeans)):\n",
        "        if y_kmeans[label] == 0.:\n",
        "            number_one.append(coordinates[label])\n",
        "        elif y_kmeans[label] == 1.:\n",
        "            number_two.append(coordinates[label])\n",
        "        else:\n",
        "            number_three.append(coordinates[label])\n",
        "    \n",
        "    \n",
        "    for image in [number_one, number_two, number_three]:\n",
        "        for i in range(len(image)):\n",
        "            if image[i][0] < x_min:\n",
        "                x_min = image[i][0]\n",
        "            if image[i][1] < y_min:\n",
        "                y_min = image[i][1]\n",
        "            if image[i][0] > x_max:\n",
        "                x_max = image[i][0]\n",
        "            if image[i][1] > y_max:\n",
        "                y_max = image[i][1]\n",
        "        for i in range(len(coordinates_add)) :\n",
        "            if x_max >= coordinates_add[i][0] >= x_min and y_max >= coordinates_add[i][1] >= y_min:\n",
        "                image.append(coordinates_add[i])\n",
        "        x_min = 128\n",
        "        y_min = 128\n",
        "        x_max = 0\n",
        "        y_max = 0 \n",
        "\n",
        "        \n",
        "    new_image = np.zeros((128,128))            \n",
        "    for old_image in [number_one, number_two, number_three]:\n",
        "        for i in range(128):\n",
        "            for j in range(128):\n",
        "                if [i,j] in old_image:\n",
        "                    new_image[i][j] = X_image_copy[i][j]\n",
        "    #plt.imshow(new_image)\n",
        "    #plt.show()\n",
        "    X_train_image.append(new_image)"
      ],
      "execution_count": 0,
      "outputs": []
    },
    {
      "cell_type": "code",
      "metadata": {
        "id": "8_HDeVLjs4PH",
        "colab_type": "code",
        "outputId": "1fb429fa-d42b-4d3e-8c60-d6c59756b909",
        "colab": {
          "base_uri": "https://localhost:8080/",
          "height": 232
        }
      },
      "source": [
        "import pickle\n",
        "X_train_image = np.array(X_train_image)\n",
        "file = open('modified_X_train_data.pickle', 'wb')\n",
        "pickle.dump(X_train_image, file)\n",
        "file.close()\n"
      ],
      "execution_count": 0,
      "outputs": [
        {
          "output_type": "error",
          "ename": "NameError",
          "evalue": "ignored",
          "traceback": [
            "\u001b[0;31m---------------------------------------------------------------------------\u001b[0m",
            "\u001b[0;31mNameError\u001b[0m                                 Traceback (most recent call last)",
            "\u001b[0;32m<ipython-input-1-1b0132fc14e0>\u001b[0m in \u001b[0;36m<module>\u001b[0;34m()\u001b[0m\n\u001b[1;32m      1\u001b[0m \u001b[0;32mimport\u001b[0m \u001b[0mpickle\u001b[0m\u001b[0;34m\u001b[0m\u001b[0;34m\u001b[0m\u001b[0m\n\u001b[0;32m----> 2\u001b[0;31m \u001b[0mX_train_image\u001b[0m \u001b[0;34m=\u001b[0m \u001b[0mnp\u001b[0m\u001b[0;34m.\u001b[0m\u001b[0marray\u001b[0m\u001b[0;34m(\u001b[0m\u001b[0mX_train_image\u001b[0m\u001b[0;34m)\u001b[0m\u001b[0;34m\u001b[0m\u001b[0;34m\u001b[0m\u001b[0m\n\u001b[0m\u001b[1;32m      3\u001b[0m \u001b[0mfile\u001b[0m \u001b[0;34m=\u001b[0m \u001b[0mopen\u001b[0m\u001b[0;34m(\u001b[0m\u001b[0;34m'modified_X_train_data.pickle'\u001b[0m\u001b[0;34m,\u001b[0m \u001b[0;34m'wb'\u001b[0m\u001b[0;34m)\u001b[0m\u001b[0;34m\u001b[0m\u001b[0;34m\u001b[0m\u001b[0m\n\u001b[1;32m      4\u001b[0m \u001b[0mpickle\u001b[0m\u001b[0;34m.\u001b[0m\u001b[0mdump\u001b[0m\u001b[0;34m(\u001b[0m\u001b[0mX_train_image\u001b[0m\u001b[0;34m,\u001b[0m \u001b[0mfile\u001b[0m\u001b[0;34m)\u001b[0m\u001b[0;34m\u001b[0m\u001b[0;34m\u001b[0m\u001b[0m\n\u001b[1;32m      5\u001b[0m \u001b[0mfile\u001b[0m\u001b[0;34m.\u001b[0m\u001b[0mclose\u001b[0m\u001b[0;34m(\u001b[0m\u001b[0;34m)\u001b[0m\u001b[0;34m\u001b[0m\u001b[0;34m\u001b[0m\u001b[0m\n",
            "\u001b[0;31mNameError\u001b[0m: name 'np' is not defined"
          ]
        }
      ]
    },
    {
      "cell_type": "code",
      "metadata": {
        "id": "wyut5XvgQWvB",
        "colab_type": "code",
        "colab": {}
      },
      "source": [
        "from google.colab import files\n",
        "files.download(modified_X_train_data.pickle’)\n"
      ],
      "execution_count": 0,
      "outputs": []
    }
  ]
}
